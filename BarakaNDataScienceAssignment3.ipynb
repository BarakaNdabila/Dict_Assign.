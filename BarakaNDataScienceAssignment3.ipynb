{
  "nbformat": 4,
  "nbformat_minor": 0,
  "metadata": {
    "colab": {
      "name": "BarakaNDataScienceAssignment3.ipynb",
      "provenance": []
    },
    "kernelspec": {
      "name": "python3",
      "display_name": "Python 3"
    }
  },
  "cells": [
    {
      "cell_type": "markdown",
      "metadata": {
        "id": "eHebBaPZzOe6"
      },
      "source": [
        "## Today I am going to present about Dictionary data structure for the class assignment\r\n",
        "I will cover the following:\r\n",
        "\r\n",
        "1. creating a dict \r\n",
        "2. calling of specific details in a dict \r\n",
        "3. updating details \r\n",
        "4. deleting some specific key values\r\n",
        "5. creating of dict objects from tuples\r\n",
        "6. merging dicts with similar details "
      ]
    },
    {
      "cell_type": "code",
      "metadata": {
        "id": "xPWtcM77ywSw"
      },
      "source": [
        "\"\"\"\"\"\"\"\"\"\"\"\"\"\"\"\"\"\"\"\"\"\"\"\"\"\"\"\"\"\"\"\"\"\"\"\"\"\"\"\"\"\"\"\"\"\"\"\"\"\"\"\"\"\"\"\"\"\"\"\"\"\"\"\"\"\"\"\"\"\"\"\"\"\"\"\"\"\"\"\"\"\"\"\"\"\"\"\"\"\"\"\"\"\"\"\"\"\"\"\"\"\"\"\"\"\"\"\"\"\"\"\"\"\r\n",
        "*First i am going to creat two dictionary variables named scholar1 and scholar2 and                             *\r\n",
        "*I will be acceessing them by using both the print command and calling up the variable just as I created it,    *\r\n",
        "*The codes below are a respective results based on the explanation above                                        *\r\n",
        "\"\"\"\r\n",
        "scholar1 = {'firstName': 'baraka', 'lastName':'ndabila', 'age': 38, 'resides':'Tanzania'}\r\n",
        "\r\n",
        "scholar2 = {'firstName':'Joseph', 'lastName':'magufuli', 'age':49, 'resides': 'Kenya'}\r\n",
        "\r\n",
        "print(scholar1)\r\n",
        "\r\n",
        "scholar2"
      ],
      "execution_count": null,
      "outputs": []
    },
    {
      "cell_type": "markdown",
      "metadata": {
        "id": "A3QR7EG30C3q"
      },
      "source": [
        "# I am now going to call a specific detail of a dict "
      ]
    },
    {
      "cell_type": "code",
      "metadata": {
        "id": "Dingv9Sx0Uxa"
      },
      "source": [
        "#I am going to access a specific detail of a scholar in the first 2 lines of codes\r\n",
        "\r\n",
        "print (scholar1['firstName'])\r\n",
        "\r\n",
        "scholar1['age']"
      ],
      "execution_count": null,
      "outputs": []
    },
    {
      "cell_type": "markdown",
      "metadata": {
        "id": "zIwQx0Ax08-j"
      },
      "source": [
        "# Next I will be updating details for a scholar "
      ]
    },
    {
      "cell_type": "code",
      "metadata": {
        "id": "5XmCcY-11Ilb"
      },
      "source": [
        "#The first and second line of code are basically updating info. of the specified scholar; that is age and lastName\r\n",
        "#Next the third line of code the university just wanted to have the last name of their scholar hence the code deletes\r\n",
        "#the first name of the scholar\r\n",
        "#The last line of code calls the create dict. variable to see the changes made\r\n",
        "\r\n",
        "scholar1['age'] = 49 #updating existing entry\r\n",
        "\r\n",
        "scholar1['lastName'] = 'moruye'#updating existing entry\r\n",
        "\r\n",
        "del scholar1['firstName'] #deleting the existing key 'firstName'for scholar1\r\n",
        "\r\n",
        "print (scholar1)"
      ],
      "execution_count": null,
      "outputs": []
    },
    {
      "cell_type": "markdown",
      "metadata": {
        "id": "xaumiu8S2EHS"
      },
      "source": [
        "# on this section I will be creating Dict objects from tuples"
      ]
    },
    {
      "cell_type": "code",
      "metadata": {
        "id": "T6YZov6L2TlO"
      },
      "source": [
        "#So basically here instead of using the curly brackets as we creat normal dicts we are going to use the constructor method\r\n",
        "\r\n",
        "scores_tuples = dict([(\"scholar1\",98), (\"scholar2\",65)])#created a dict known as score-tuples wiht tuples inside as pairs\r\n",
        "\r\n",
        "scores_tuples"
      ],
      "execution_count": null,
      "outputs": []
    },
    {
      "cell_type": "markdown",
      "metadata": {
        "id": "-x6T8epn3YBY"
      },
      "source": [
        "# Merging dictionaries"
      ]
    },
    {
      "cell_type": "code",
      "metadata": {
        "id": "hrZ4cPe36Hgc"
      },
      "source": [
        "Scholars = {**scholar2,**scholar1}\r\n",
        "Scholars"
      ],
      "execution_count": null,
      "outputs": []
    },
    {
      "cell_type": "code",
      "metadata": {
        "id": "te-ILA7r6Xxy"
      },
      "source": [
        ""
      ],
      "execution_count": null,
      "outputs": []
    }
  ]
}